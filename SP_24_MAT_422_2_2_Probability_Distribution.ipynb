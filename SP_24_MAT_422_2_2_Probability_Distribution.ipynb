{
  "nbformat": 4,
  "nbformat_minor": 0,
  "metadata": {
    "colab": {
      "provenance": [],
      "toc_visible": true,
      "authorship_tag": "ABX9TyPT3nXvvZHYoIOuPCE0EjuK",
      "include_colab_link": true
    },
    "kernelspec": {
      "name": "python3",
      "display_name": "Python 3"
    },
    "language_info": {
      "name": "python"
    }
  },
  "cells": [
    {
      "cell_type": "markdown",
      "metadata": {
        "id": "view-in-github",
        "colab_type": "text"
      },
      "source": [
        "<a href=\"https://colab.research.google.com/github/JadonTelep/MAT-422/blob/main/SP_24_MAT_422_2_2_Probability_Distribution.ipynb\" target=\"_parent\"><img src=\"https://colab.research.google.com/assets/colab-badge.svg\" alt=\"Open In Colab\"/></a>"
      ]
    },
    {
      "cell_type": "markdown",
      "source": [
        "# **Chapter 2 - Probability**"
      ],
      "metadata": {
        "id": "AOMx9sLVsbAM"
      }
    },
    {
      "cell_type": "markdown",
      "source": [
        "##2.1 Introduction"
      ],
      "metadata": {
        "id": "Dsmu1XaRsgys"
      }
    },
    {
      "cell_type": "markdown",
      "source": [
        "Probability concerns the study of uncertainty and is often used to quantify uncertainty in the data analysis and prediction, uncertainty in the data\n",
        "science and machine learning model. Probability is a key mathematical\n",
        "concept that is essential for modeling and understanding various model performances. Data science and machine learning rely heavily on probabilistic\n",
        "models. This section will provide the necessary probability background for\n",
        "learning and understanding data science concepts. It will introduce the\n",
        "concept of probability, provide an overview of probability distribution,\n",
        "conditional probability, random variables, and describe how to compute expectation and variance. In addition, it includes maximum likelihood estimation. Further, probability and their applications can be found in many\n",
        "references"
      ],
      "metadata": {
        "id": "NwUED-oKss5p"
      }
    },
    {
      "cell_type": "markdown",
      "source": [
        "## 2.2 Probability distribution"
      ],
      "metadata": {
        "id": "-H3GLu09t4fM"
      }
    },
    {
      "cell_type": "markdown",
      "source": [
        "A probability distribution is the mathematical function that gives the probabilities of occurrence of different possible outcomes for an experiment. We will discuss both discrete and continuous probability distributions.\n"
      ],
      "metadata": {
        "id": "Df5HTLDEt4gw"
      }
    },
    {
      "cell_type": "markdown",
      "source": [
        "### 2.2.1 Probability axioms"
      ],
      "metadata": {
        "id": "-7bZEhWkt4kH"
      }
    },
    {
      "cell_type": "markdown",
      "source": [
        "#### 2.2.1.1 Sample spaces and events"
      ],
      "metadata": {
        "id": "5g2OG9Y_t4lM"
      }
    },
    {
      "cell_type": "markdown",
      "source": [
        "We start with an **experiment**, which is any activity or process whose outcome is subject to uncertainty. In general, the word experiment may represent a planned or carefully controlled laboratory testing situation. In probability, we use it here in a much wider sense. Thus experiments that may be of interest include tossing a coin once or several times, selecting a card or cards from a deck, weighing a loaf of bread, ascertaining the commuting time from home to work on a particular morning, obtaining blood types from a group of individuals, or measuring blood pressures of human beings.\n",
        "\n",
        "**Definition 2.2.1.** The **sample space** of an experiment, denoted by $S$, is the set of all possible outcomes of that experiment.\n",
        "\n",
        "In probability, we will be interested not only in the individual outcomes of $S$ but also in various collections of outcomes from $S$. In fact, it is often more meaningful to study the collection of outcomes.\n",
        "\n",
        "**Definition 2.2.2.** An **event** is any collection (subset) of outcomes contained in the sample space $S$. An event is **simple** if it consists of exactly one outcome and **compound** if it consists of more than one outcome.\n",
        "\n",
        "**Definition 2.2.3.** Given an experiment and a sample space $S$, the **probability distribution** is a function which assigns to each event $A$ a number $P(A)$, called the **probability of the event** $A$, which will give a precise measure of the chance that $A$ will occur. The probability assignments should satisfy the following axioms (basic properties) of probability:\n",
        "- For any event $A, 1 \\geq P(A) \\geq 0$\n",
        "- $\\quad P(S)=1$\n",
        "- If $A_{1}, A_{2}, A_{3}, \\ldots$ is an infinite collection of disjoint events, then\n",
        "$$\n",
        "P\\left(A_{1} \\cup A_{2} \\cup A_{3} \\cup \\cdots\\right)=\\sum_{i=1}^{\\infty} P\\left(A_{i}\\right)\n",
        "$$\n",
        "- For any event $A, P(A)+P\\left(A^{\\prime}\\right)=1$, from which $P(A)=1-P\\left(A^{\\prime}\\right)$\n",
        "- When events $A$ and $B$ are mutually exclusive, $P(A \\cup B)=P(A)+P(B)$\n",
        "- For any two events $A$ and $B$,\n",
        "$$\n",
        "P(A \\cup B)=P(A)+P(B)-P(A \\cap B)\n",
        "$$\n",
        "\n",
        "**Example 2.2.4.** In a simply and yet common experiment consisting of $N$ outcomes, it is reasonable to assign equal probabilities to all $N$ simple events. That is, if there are $N$ equally likely outcomes, the probability for each is $1 / N$. Now consider an event $A$, with $N(A)$ denoting the number of outcomes contained in $A$ and we have\n",
        "$$\n",
        "P(A)=\\frac{N(A)}{N}\n",
        "$$"
      ],
      "metadata": {
        "id": "jMTuvbJ1t4mT"
      }
    },
    {
      "cell_type": "markdown",
      "source": [
        "### 2.2.2 Conditional probability"
      ],
      "metadata": {
        "id": "Qkcu7K1TvRgR"
      }
    },
    {
      "cell_type": "markdown",
      "source": [
        "Conditional probability is defined as the likelihood of an event or outcome occurring, based on the occurrence of a previous event or outcome. The conditional probability is expressed as a ratio of unconditional probabilities: The numerator is the probability of the intersection of the two events, whereas the denominator is the probability of the conditioning event $B$. Given that $B$ has occurred, the relevant sample space is no longer $S$ but consists of outcomes in $B ; A$ has occurred if and only if one of the outcomes in the intersection occurred, so the conditional probability of $A$ given $B$ is proportional to $P(A \\cap B)$. A Venn diagram illuminates this relationship in Fig. 2.1.\n",
        "\n",
        "**Definition 2.2.5.** For any two events $A$ and $B$ with $P(B)>0$, the **conditional probability of** $A$ **given that** $B$ **has occurred** is defined by\n",
        "$$\n",
        "\\begin{equation*}\n",
        "P(A \\mid B)=\\frac{P(A \\cap B)}{P(B)} \\tag{2.2.1}\n",
        "\\end{equation*}\n",
        "$$\n",
        "\n",
        "Conditional probability gives a rise to the multiplication rule,\n",
        "$$\n",
        "P(A \\cap B)=P(A \\mid B) \\cdot P(B)\n",
        "$$"
      ],
      "metadata": {
        "id": "EE4c7aebvRiG"
      }
    },
    {
      "cell_type": "markdown",
      "source": [
        "![pic1.jpg](data:image/jpeg;base64,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)"
      ],
      "metadata": {
        "id": "hzbyfSfVvRnl"
      }
    },
    {
      "cell_type": "markdown",
      "source": [
        "This rule is important because it is often the case that $P(A \\cap B)$ is desired, whereas both $P(B)$ and $P(A \\mid B)$ can be specified from the problem description.\n",
        "\n",
        "Often it is interesting to know if $A$ and $B$ are independent events, meaning that the occurrence or nonoccurrence of one event has no bearing on the chance that the other will occur.\n",
        "\n",
        "**Definition 2.2.6.** Two events $A$ and $B$ are **independent** if $P(A \\mid B)=$ $P(A)$ (or $P(A \\cap B)=P(A) \\cdot P(B)$ ), and are **dependent** otherwise.\n",
        "\n",
        "The notion of independence of two events can be extended to collections of more than two events.\n",
        "\n",
        "**Definition 2.2.7.** Events $A_{1}, \\ldots, A_{n}$ are **mutually independent** if for every $k(k=2,3, \\ldots, n)$ and every subset of indices $i_{1}, i_{2}, \\ldots, i_{k}$,\n",
        "$$\n",
        "P\\left(A_{i_{1}} \\cap A_{i_{2}} \\cap \\ldots \\cap A_{i_{k}}\\right)=P\\left(A_{i_{1}}\\right) \\cdot P\\left(A_{i_{2}}\\right) \\cdots \\cdots P\\left(A_{i_{k}}\\right)\n",
        "$$"
      ],
      "metadata": {
        "id": "-m4sCrZ_vRrJ"
      }
    },
    {
      "cell_type": "markdown",
      "source": [
        "### 2.2.3 Discrete random variables"
      ],
      "metadata": {
        "id": "6MNRk_YRvRtM"
      }
    },
    {
      "cell_type": "markdown",
      "source": [
        "A random variable is understood as a measurable function defined on a probability space that maps from the sample space to the real numbers. It is often convenient to associate each outcome of an experiment with a number. A random variable is described informally as a variable whose values depend on outcomes of a random phenomenon as shown in Fig. 2.2.\n",
        "\n",
        "**Definition 2.2.8.** For a given sample space $S$ of some experiment, a **random variable** is any rule that associates a number with each outcome in $S$. Mathematically, a random variable is a function whose domain is the sample space and whose range is the set of real numbers.\n",
        "\n",
        "There are two different types of random variables."
      ],
      "metadata": {
        "id": "8sELKQWRvRyV"
      }
    },
    {
      "cell_type": "markdown",
      "source": [
        "![pic2.jpg](data:image/jpeg;base64,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)"
      ],
      "metadata": {
        "id": "iPdUbYXwvRzb"
      }
    },
    {
      "cell_type": "markdown",
      "source": [
        "**Definition 2.2.9.** A **discrete** random variable is a random variable whose possible values either constitute a finite set or else can be listed in an infinite sequence. A random variable is **continuous** if *both* of the following apply:\n",
        "1. Its set of possible values consists all numbers in a single interval on the number line.\n",
        "2. $P(X=c)=0$ for any possible value individual $c$.\n",
        "\n",
        "In practice, we wish to know the total probability of 1 is distributed among (allocated to) the various possible $X$ values. A probability mass function (pmf) is a function that gives the probability that a discrete random variable is exactly equal to some value. The pmf of a probability distribution specifies the probability of observing that value when the experiment is performed.\n",
        "\n",
        "**Definition 2.2.10.** The **probability distribution** or **probability mass function** (pmf) of a discrete random variable is defined for every number $x$ by\n",
        "$$\n",
        "p(x)=P(X=x)=P(\\text { all } s \\in S: X(s)=x)\n",
        "$$\n",
        "\n",
        "**Definition 2.2.11.** The cumulative distribution function (cdf) $F(x)$ of a discrete random variable $X$ with $\\operatorname{pmf} p(x)$ is defined for every number $x$ by\n",
        "$$\n",
        "\\begin{equation*}\n",
        "F(x)=P(X \\leq x)=\\sum_{\\gamma: y \\leq x} p(y) \\tag{2.2.2}\n",
        "\\end{equation*}\n",
        "$$\n",
        "\n",
        "**Example 2.2.12.** In many cases, there are only two possible values associated with the random variable. Any random variable whose only possible values are 0 and 1 is called a **Bernoulli random variable**. Given Bernoulli experiments with outcomes: S (success) and F (failure). The binomial random variable $X$ associated with independent Bernoulli experiment con-\n",
        "sisting of $n$ trials is defined as\n",
        "$$\n",
        "X=\\text { the number of S's among the } n \\text { trials. }\n",
        "$$\n",
        "\n",
        "The probability of success is constant $p$ from trial to trial. The pmf of $X$ has the form\n",
        "$$\n",
        "b(x ; n, p)=\\left\\{\\begin{array}{cl}\n",
        "\\binom{n}{x} p^{x}(1-p)^{n-x}, & x=0,1,2,3, \\ldots, n \\\\\n",
        "0, & \\text { otherwise }\n",
        "\\end{array}\\right.\n",
        "$$\n",
        "\n",
        "The cdf of $X$ has the form\n",
        "$$\n",
        "\\begin{equation*}\n",
        "B(x ; n, p)=P(X \\leq x)=\\sum_{y \\leq x} b(x ; n, p)=\\sum_{y=0}^{x}\\binom{n}{y} p^{x}(1-p)^{n-x} \\tag{2.2.3}\n",
        "\\end{equation*}\n",
        "$$\n",
        "\n",
        "**Example 2.2.13.** The Poisson distribution is a discrete probability distribution that describes the probability of a given number of events occurring in a fixed interval of time or space if these events occur with a known constant mean rate and independently of the time since the last event. A discrete random variable $X$ is said to have a Poisson distribution with parameter $\\mu$ if the pmf of $X$ is the following. The pmf of $X$ has the form\n",
        "$$\n",
        "p(x ; \\mu)=\\frac{e^{-\\mu} \\mu^{x}}{x!}, x=0,1,2,3, \\ldots\n",
        "$$"
      ],
      "metadata": {
        "id": "K7GtGRz7xqMx"
      }
    },
    {
      "cell_type": "markdown",
      "source": [
        "**EXAMPLE:** Use scipy library to calculate Probability Mass Function (pmf) and Cumulative Distribution Function(cmf) for a binomal distribution. n and p are shape parameters. n is the number of trials. p is the probabilty of a S (success). r is some random distribution."
      ],
      "metadata": {
        "id": "BgKOxNT25-Vd"
      }
    },
    {
      "cell_type": "code",
      "source": [
        "import numpy as np\n",
        "from scipy.stats import binom\n",
        "import matplotlib.pyplot as plt\n",
        "fig, (ax1, ax2) = plt.subplots(1, 2)\n",
        "\n",
        "## Let there 5 trails where there is a 0.4 probabilty of success.\n",
        "n, p = 5, 0.4\n",
        "\n",
        "## Random distrubution\n",
        "x = np.arange(binom.ppf(0.01, n, p),\n",
        "              binom.ppf(0.99, n, p))\n",
        "\n",
        "## pmf graph\n",
        "ax1.plot(x, binom.pmf(x, n, p), 'bo', ms=8, label='binom pmf')\n",
        "ax1.vlines(x, 0, binom.pmf(x, n, p), colors='b', lw=5, alpha=0.5)\n",
        "\n",
        "## cmf graph\n",
        "ax2.plot(x, binom.cdf(x, n, p), 'bo', ms=8, label='binom cdf')\n",
        "ax2.vlines(x, 0, binom.cdf(x, n, p), colors='b', lw=5, alpha=0.5)"
      ],
      "metadata": {
        "colab": {
          "base_uri": "https://localhost:8080/",
          "height": 447
        },
        "id": "7PoNy-E55_JU",
        "outputId": "ef87daf8-a23c-4abd-e372-6ad622d0ce93"
      },
      "execution_count": 17,
      "outputs": [
        {
          "output_type": "execute_result",
          "data": {
            "text/plain": [
              "<matplotlib.collections.LineCollection at 0x7bef09510460>"
            ]
          },
          "metadata": {},
          "execution_count": 17
        },
        {
          "output_type": "display_data",
          "data": {
            "text/plain": [
              "<Figure size 640x480 with 2 Axes>"
            ],
            "image/png": "[encoded data removed]"
          },
          "metadata": {}
        }
      ]
    },
    {
      "cell_type": "markdown",
      "source": [
        "Code referenced from orginal documentation: [scipy.stats.binom](https://docs.scipy.org/doc/scipy/reference/generated/scipy.stats.binom.html)."
      ],
      "metadata": {
        "id": "bT3S3hfJ6NZF"
      }
    },
    {
      "cell_type": "markdown",
      "source": [
        "#### 2.2.3.1 The expected value and variance of $X$"
      ],
      "metadata": {
        "id": "8f_bd6SQxqRF"
      }
    },
    {
      "cell_type": "markdown",
      "source": [
        "The expected value of a random variable $X$ is a generalization of the weighted average, and is intuitively the arithmetic mean of a large number of independent realizations of $X$.\n",
        "\n",
        "**Definition 2.2.14.** Let $X$ be a discrete random variable with set of possible values $D$ and $\\operatorname{pmf} p(x)$. The expected value or mean value of $X$, denoted by $E(X)$ or $\\mu_{\\mathrm{X}}$ or just $\\mu$, is\n",
        "$$\n",
        "E(X)=\\mu_{X}=\\sum_{x \\in D} x \\cdot p(x)\n",
        "$$\n",
        "\n",
        "**Example 2.2.15.** Let $X=1$ be a Bernoulli random variable with pmf $p(1)=p, p(0)=1-p$, and from which $E(X)=0 \\times p(0)+1 \\times p(1)=p$. That is, the expected value of $X$ is just the probability that $X$ takes on the value 1 .\n",
        "\n",
        "Sometimes we need to compute the expected value of some function $h(X)$ rather than on just $E(X)$.\n",
        "\n",
        "**Proposition 2.2.16.** If the random variable $X$ has a set of possible values $D$ and $\\operatorname{pmf} p(x)$, then the expected value of any function $h(X)$, denoted by $E[h(X)]$ or $\\mu_{h(X)}$, is computed by\n",
        "$$\n",
        "E[h(X)]=\\sum_{D} h(x) \\cdot p(x)\n",
        "$$\n",
        "\n",
        "*In particular*,\n",
        "$$\n",
        "E(a X+b)=a \\cdot E(X)+b\n",
        "$$\n",
        "\n",
        "Variances measure how far a set of numbers is spread out from their average value.\n",
        "\n",
        "**Definition 2.2.17.** Let $X$ have $\\operatorname{pmf} p(x)$ and expected value $\\mu$. Then the variance of $X$, denoted by $V(X)$ or $\\sigma_{X}^{2}$, or just $\\sigma^{2}$, is\n",
        "$$\n",
        "V(X)=\\sum_{D}(x-\\mu)^{2} \\cdot p(x)=E\\left[(X-\\mu)^{2}\\right]\n",
        "$$\n",
        "\n",
        "The standard deviation (SD) of $X$ is\n",
        "$$\n",
        "\\sigma_{X}=\\sqrt{\\sigma_{X}^{2}}\n",
        "$$\n",
        "\n",
        "It is easy to verify the following.\n",
        "\n",
        "**Proposition 2.2.18.**\n",
        "$$\n",
        "V(a X+b)=\\sigma_{a X+b}^{2}=a^{2} \\cdot \\sigma_{X}^{2} \\quad \\text { and } \\quad \\sigma_{a X+b}=|a| \\cdot \\sigma_{x}\n",
        "$$\n",
        "\n",
        "*In particular*,\n",
        "$$\n",
        "\\begin{equation*}\n",
        "\\sigma_{a X}=|a| \\cdot \\sigma_{X}, \\quad \\sigma_{X+b}=\\sigma_{X} \\tag{2.2.4}\n",
        "\\end{equation*}\n",
        "$$\n",
        "\n",
        "It is useful to know expected values and variances of the two important distributions.\n",
        "\n",
        "**Proposition 2.2.19.**\n",
        "- If $X$ is a binomial random variable with parameters $n, p$, then, $E(X)=n p$, $V(X)=n p(1-p), \\sigma_{X}=\\sqrt{n p(1-p)}$.\n",
        "- If $X$ is a Poisson distribution with parameter $\\mu$, then $E(X)=\\mu, V(X)=\\mu$."
      ],
      "metadata": {
        "id": "9IrdeabOxqSy"
      }
    },
    {
      "cell_type": "markdown",
      "source": [
        "### 2.2.4 Continues random variables"
      ],
      "metadata": {
        "id": "nrmcqpT2xqUv"
      }
    },
    {
      "cell_type": "markdown",
      "source": [
        "A random variable X is continuous if possible values comprise either a single interval on the number line or a union of disjoint intervals.\n",
        "\n",
        "**Definition 2.2.20.** Let $X$ be a continuous random variable. Then a **probability distribution** or **probability density function** (pdf) of $X$ is a function $f(x)$ such that for any two numbers $a$ and $b$ with $a \\leq b$,\n",
        "$$\n",
        "P(a \\leq X \\leq b)=\\int_{a}^{b} f(x) d x\n",
        "$$\n",
        "\n",
        "That is, the probability that $X$ takes on a value in the interval $[a, b]$ is the area above this interval and under the graph of the density function, as illustrated in Fig. 2.3. $f(x)$ must satisfy the following two conditions:\n",
        "1. $f(x) \\geq 0$ for all $x$\n",
        "2. $\\int_{-\\infty}^{\\infty} f(x) d x=$ Total area under the entire graph of $f(x)$\n",
        "$=1$"
      ],
      "metadata": {
        "id": "krdjroeBxqWV"
      }
    },
    {
      "cell_type": "markdown",
      "source": [
        "![pic3.jpg](data:image/jpeg;base64,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)"
      ],
      "metadata": {
        "id": "lXEbicncxqYM"
      }
    },
    {
      "cell_type": "markdown",
      "source": [
        "#### 2.2.4.1 Expected values and variances"
      ],
      "metadata": {
        "id": "Oa2yJYtCxqcv"
      }
    },
    {
      "cell_type": "markdown",
      "source": [
        "We define the expected values and variances for continuous random variables as for discrete variables.\n",
        "\n",
        "**Definition 2.2.21.** The **expected** or **mean value** of a continuous random variable $X$ with $\\operatorname{pdf} f(x)$ is\n",
        "$$\n",
        "\\mu_{X}=E(X)=\\int_{-\\infty}^{\\infty} x \\cdot f(x) d x\n",
        "$$\n",
        "\n",
        "**Definition 2.2.22.** The **variance** of a continuous random variable $X$ with $\\operatorname{pdf} f(x)$ and the variance is $\\mu$ is\n",
        "$$\n",
        "\\sigma_{X}^{2}=V(X)=\\int_{-\\infty}^{\\infty}(x-\\mu)^{2} \\cdot f(x) d x=E\\left[(X-\\mu)^{2}\\right]\n",
        "$$\n",
        "\n",
        "The **standard deviation** (SD) of $X$ is $\\sigma_{X}=\\sqrt{V(X)}$.\n",
        "It is easy to verify the following.\n",
        "Proposition 2.2.23. The expected values and variance have the following properties:\n",
        "- If $X$ is a continuous random variable with $\\operatorname{pdf} f(x)$ and $h(X)$ is any function of $X$, then\n",
        "$$\n",
        "E[h(X)]=\\mu_{h(X)}=\\int_{-\\infty}^{\\infty} h(x) \\cdot f(x) d x\n",
        "$$\n",
        "$$\n",
        "V(X)=E\\left(X^{2}\\right)-[E(X)]^{2}\n",
        "$$\n",
        "\n",
        "Definition 2.2.24. $X$ is said to have an **exponential distribution** with parameter $\\lambda(\\lambda>0)$ if the pdf of $X$ is\n",
        "$$\n",
        "f(x ; \\lambda)=\\left\\{\\begin{array}{cc}\n",
        "\\lambda e^{-\\lambda x} & x \\geq 0  \\tag{2.2.5}\\\\\n",
        "0 & \\text { otherwise }\n",
        "\\end{array}\\right.\n",
        "$$\n",
        "\n",
        "The expected value of an exponentially distributed random variable $X$ is\n",
        "$$\n",
        "E(X)=\\int_{0}^{\\infty} x \\lambda e^{-\\lambda x} d x\n",
        "$$\n",
        "\n",
        "Obtaining this expected value necessitates doing an integration by parts. The variance of $X$ can be computed using the fact that $V(X)=E\\left(X^{2}\\right)-$ $[E(X)]^{2}$. The determination of $E\\left(X^{2}\\right)$ requires integrating by parts twice in succession. The results of these integrations are as follows:\n",
        "$$\n",
        "\\mu=\\frac{1}{\\lambda} \\quad \\sigma^{2}=\\frac{1}{\\lambda^{2}}\n",
        "$$\n",
        "\n",
        "Both the mean and standard deviation of the exponential distribution equal $1 / \\lambda$."
      ],
      "metadata": {
        "id": "jQrNyZnmxqg5"
      }
    },
    {
      "cell_type": "markdown",
      "source": [
        "#### 2.2.4.2 The normal distribution"
      ],
      "metadata": {
        "id": "sJiIIaCbxqij"
      }
    },
    {
      "cell_type": "markdown",
      "source": [
        "Normal distributions are often used in the natural and social sciences to represent real-valued random variables whose distributions are not known.\n",
        "\n",
        "**Definition 2.2.25.** A continuous random variable $X$ is said to have a **normal distribution** with parameters $\\mu$ and $\\sigma$ (or $\\mu$ and $\\sigma^{2}$ ), where\n",
        "$-\\infty<\\mu<\\infty$ and $0<\\sigma$, if the pdf of $X$ is\n",
        "$$\n",
        "\\begin{equation*}\n",
        "f(x ; \\mu, \\sigma)=\\frac{1}{\\sqrt{2 \\pi} \\sigma} e^{-(x-\\mu)^{2} /\\left(2 \\sigma^{2}\\right)} \\quad-\\infty< x <\\infty \\tag{2.2.6}\n",
        "\\end{equation*}\n",
        "$$\n",
        "\n",
        "This is illustrated in Fig. 2.4.\n",
        "The computation of $P(a \\leq X \\leq b)$ when $X$ is a normal random variable with parameters $\\mu$ and $\\sigma$ requires evaluating\n",
        "$$\n",
        "\\begin{equation*}\n",
        "\\int_{a}^{b} \\frac{1}{\\sqrt{2 \\pi} \\sigma} e^{-(x-\\mu)^{2} /\\left(2 \\sigma^{2}\\right)} d x \\tag{2.2.7}\n",
        "\\end{equation*}\n",
        "$$\n",
        "\n",
        "**Definition 2.2.26.** The normal distribution with parameter values $\\mu=0$ and $\\sigma=1$ is called the standard normal distribution. A random variable having a standard normal distribution is called a **standard normal random variable** and will be denoted by $Z$. The pdf of $Z$ is\n",
        "$$\n",
        "f(z ; 0,1)=\\frac{1}{\\sqrt{2 \\pi}} e^{-z^{2} / 2} \\quad-\\infty< z <\\infty\n",
        "$$\n",
        "\n",
        "The graph of $f(z ; 0,1)$ is called the standard normal (or $z$ ) curve, as is shown in Fig. 2.4. Its inflection points are at 1 and -1 . The cdf of $Z$ is $P(Z \\leq z)=\\int_{-\\infty}^{z} f(\\gamma ; 0,1) d y$, which we will denote by $\\Phi(z)$.\n"
      ],
      "metadata": {
        "id": "Qir5ZhY0xqkV"
      }
    },
    {
      "cell_type": "markdown",
      "source": [
        "![pic4.jpg](data:image/jpeg;base64,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)"
      ],
      "metadata": {
        "id": "vo2YzfvT3S3i"
      }
    },
    {
      "cell_type": "markdown",
      "source": [
        "A normal distribution, $X \\sim N\\left(\\mu, \\sigma^{2}\\right)$ can be converted to the **standardized variable** is $(X-\\mu) / \\sigma$.\n",
        "\n",
        "Proposition 2.2.27. If $X$ has a normal distribution with mean $\\mu$ and standard deviation $\\sigma$, then\n",
        "$$\n",
        "Z=\\frac{X-\\mu}{\\sigma}\n",
        "$$\n",
        "has a standard normal distribution. Thus\n",
        "$$\n",
        "\\begin{gathered}\n",
        "P(a \\leq X \\leq b)=P\\left(\\frac{a-\\mu}{\\sigma} \\leq Z \\leq \\frac{b-\\mu}{\\sigma}\\right) \\\\\n",
        "=\\Phi\\left(\\frac{b-\\mu}{\\sigma}\\right)-\\Phi\\left(\\frac{a-\\mu}{\\sigma}\\right) \\\\\n",
        "P(X \\leq a)=\\Phi\\left(\\frac{a-\\mu}{\\sigma}\\right) \\quad P(X \\geq b)=1-\\Phi\\left(\\frac{b-\\mu}{\\sigma}\\right)\n",
        "\\end{gathered}\n",
        "$$\n",
        "\n",
        "The proposition can be proved by writing the cdf of $Z=(X-\\mu) / \\sigma$ as\n",
        "$$\n",
        "P(Z \\leq z)=P(X \\leq \\sigma z+\\mu)=\\int_{-\\infty}^{\\sigma z+\\mu} f(x ; \\mu, \\sigma) d x\n",
        "$$\n",
        "\n",
        "Using a result from calculus, this integral can be differentiated with respect to $z$ to yield the desired $\\operatorname{pdf} f(z ; 0,1)$."
      ],
      "metadata": {
        "id": "eHB3-EHZ3S5S"
      }
    },
    {
      "cell_type": "markdown",
      "source": [
        "## Code References"
      ],
      "metadata": {
        "id": "KMc4x0sv4ZpG"
      }
    },
    {
      "cell_type": "markdown",
      "source": [
        "The SciPy community (2008-2024) \"scipy.stats.binom\" scipy.stats.binom — SciPy v1.14.1 Manual, https://docs.scipy.org/doc/scipy/reference/generated/scipy.stats.binom.html. Accessed 22 Sept. 2024."
      ],
      "metadata": {
        "id": "yuXmvmK64Z-M"
      }
    }
  ]
}