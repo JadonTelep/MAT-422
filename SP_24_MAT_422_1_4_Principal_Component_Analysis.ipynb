{
  "nbformat": 4,
  "nbformat_minor": 0,
  "metadata": {
    "colab": {
      "provenance": [],
      "toc_visible": true,
      "authorship_tag": "ABX9TyOSzjiluH+BAX3Rso9xkYY4",
      "include_colab_link": true
    },
    "kernelspec": {
      "name": "python3",
      "display_name": "Python 3"
    },
    "language_info": {
      "name": "python"
    }
  },
  "cells": [
    {
      "cell_type": "markdown",
      "metadata": {
        "id": "view-in-github",
        "colab_type": "text"
      },
      "source": [
        "<a href=\"https://colab.research.google.com/github/JadonTelep/MAT-422/blob/main/SP_24_MAT_422_1_4_Principal_Component_Analysis.ipynb\" target=\"_parent\"><img src=\"https://colab.research.google.com/assets/colab-badge.svg\" alt=\"Open In Colab\"/></a>"
      ]
    },
    {
      "cell_type": "markdown",
      "source": [
        "# **Chapter 1 - Linear Algebra**"
      ],
      "metadata": {
        "id": "ntnstOr7yynk"
      }
    },
    {
      "cell_type": "markdown",
      "source": [
        "##1.4 Principal Component Analysis"
      ],
      "metadata": {
        "id": "3TkQzlv1zkcS"
      }
    },
    {
      "cell_type": "markdown",
      "source": [
        "Principal component analysis is commonly used for dimensionality reduction by projecting each data point onto only the first few principal components to obtain lower-dimensional data while preserving as much of the data's variation as possible. Its underlying mathematics can be explained with singular value decomposition."
      ],
      "metadata": {
        "id": "sF7qDDHNzlRn"
      }
    },
    {
      "cell_type": "markdown",
      "source": [
        "### 1.4.1 Singular Value Decomposition"
      ],
      "metadata": {
        "id": "uM_sWyyLzoZT"
      }
    },
    {
      "cell_type": "markdown",
      "source": [
        "Let $A$ be an $m \\times n$ matrix. Then $A^{T} A$ is symmetric and can be orthogonally diagonalized. Let $\\mathbf{v}_{1}, \\ldots, \\mathbf{v}_{n}$ be an orthonormal basis for $\\mathbb{R}^{n}$ consisting of eigenvectors of $A^{T} A$, and let $\\lambda_{1}, \\ldots, \\lambda_{n}$ be the associated eigenvalues of $A^{T} A$. Then, for $1 \\leq i \\leq n$,\n",
        "$$\n",
        "\\begin{array}{rlr}\n",
        "\\left\\|A \\mathbf{v}_{i}\\right\\|^{2} & =\\left(A \\mathbf{v}_{i}\\right)^{T} A \\mathbf{v}_{i}=\\mathbf{v}_{i}^{T} A^{T} A \\mathbf{v}_{i} & \\\\\n",
        "& =\\mathbf{v}_{i}^{T}\\left(\\lambda_{i} \\mathbf{v}_{i}\\right) & \\text { since } \\mathbf{v}_{i} \\text { is an eigenvectors of } A^{T} A \\\\\n",
        "& =\\lambda_{i} & \\text { since } \\mathbf{v}_{i} \\text { is a unit vector } \\tag{1.4.1}\n",
        "\\end{array}\n",
        "$$\n",
        "\n",
        "So the eigenvalues of $A$ are all non-negative. By renumbering, if necessary, we may assume that the eigenvalues are arranged so that\n",
        "$$\n",
        "\\lambda_{1} \\geq \\lambda_{2} \\geq \\cdots \\lambda_{n} \\geq 0\n",
        "$$\n",
        "\n",
        "The singular values of $A$ are the square roots of the eigenvalues of $A^{T} A$, denoted by $\\sigma_{1}, \\ldots, \\sigma_{n}$, and they are arranged in decreasing order. That is, $\\sigma_{i}=\\sqrt{\\lambda_{i}}$ for $1 \\leq i \\leq n$. The singular values of $A$ are the lengths of the vectors $A \\mathbf{v}_{1}, \\ldots, A \\mathbf{v}_{n}$.\n",
        "\n",
        "**Theorem 1.4.1.** If an $m \\times n$ matrix $A$ has $r$ non-zero singular values, $\\sigma_{1}, \\ldots, \\sigma_{r} \\geq 0$ with $\\sigma_{r+1}=\\cdots=\\sigma_{n}=0$, then the dimension of $\\operatorname{col}(A)=r$.\n",
        "\n",
        "*Proof.* Let $\\mathbf{v}_{1}, \\ldots, \\mathbf{v}_{n}$ be an orthonormal basis of $\\mathbb{R}^{n}$ of $A^{T} A$, ordered so that the corresponding eigenvalues of $A^{T} A$ satisfy $\\lambda_{1} \\geq \\cdots \\lambda_{n}$. Then for $i \\neq j$,\n",
        "$$\n",
        "\\left(A \\mathbf{v}_{i}\\right)^{T}\\left(A \\mathbf{v}_{j}\\right)=\\mathbf{v}_{i}^{T} A^{T} A \\mathbf{v}_{j}=\\mathbf{v}_{i}^{T}\\left(\\lambda_{j} \\mathbf{v}_{j}\\right)=0\n",
        "$$\n",
        "since $\\mathbf{v}_{i}$ and $\\lambda_{j} \\mathbf{v}_{j}$ are orthogonal. Thus $\\left\\{A \\mathbf{v}_{1}, \\ldots, A \\mathbf{v}_{n}\\right\\}$ is an orthogonal set. Let $r$ be the number of non-zero singular values of $A$; that is, $r$ is the number of non-zero eigenvalues of $A^{T} A$. We see that $A \\mathbf{v}_{i} \\neq \\mathbf{0}$ if and only if $1 \\leq i \\leq r$. Then $\\left[A \\mathbf{v}_{1}, \\ldots, A \\mathbf{v}_{r}\\right]$ is linearly independent and clearly is in $\\operatorname{col}(A)$. Furthermore, for any $\\mathbf{y}$ in $\\operatorname{col}(A)$-say, $\\mathbf{y}=A \\mathbf{x}$-we may write $\\mathbf{x}=c_{1} \\mathbf{v}_{1}+\\cdots+c_{n} \\mathbf{v}_{n}$, and\n",
        "$$\n",
        "\\begin{aligned}\n",
        "\\mathbf{y}=A \\mathbf{x} & =c_{1} A \\mathbf{v}_{1}+\\cdots+c_{r} A \\mathbf{v}_{r}+c_{r+1} A \\mathbf{v}_{r+1}+\\cdots+c_{n} A \\mathbf{v}_{n} \\\\\n",
        "& =c_{1} A \\mathbf{v}_{1}+\\cdots+c_{r} A \\mathbf{v}_{r}+\\mathbf{0}+\\cdots+0\n",
        "\\end{aligned}\n",
        "$$\n",
        "\n",
        "Thus $y$ is in span of $\\left\\{A \\mathbf{v}_{1}, \\ldots, A \\mathbf{v}_{r}\\right\\}$, which shows that $\\left\\{A \\mathbf{v}_{1}, \\ldots, A \\mathbf{v}_{r}\\right\\}$ is an (orthogonal) basis for $\\operatorname{col}(A)$. Hence the dimension of $\\operatorname{col}(A)=r$.\n",
        "\n",
        "The decomposition of $A$ involves an $m \\times n$ diagonal matrix $\\sum$ of the form\n",
        "$$\n",
        "\\sum=\\left[\\begin{array}{ll}\n",
        "D & 0 \\\\\n",
        "0 & 0\n",
        "\\end{array}\\right]\n",
        "$$\n",
        "where $D$ is an $r \\times r$ diagonal matrix for some $r$ not exceeding the smaller of $m$ and $n$. (If $r$ equals $m$ or $n$ or both, some or all of the zero matrices will not appear.)\n",
        "\n",
        "**Theorem 1.4.2**(The singular value decomposition). Let $A$ be an $m \\times n$ matrix with the dimension of $\\operatorname{col}(A)=r$. Then there exists an $m \\times n$ matrix $\\sum$,\n",
        "where the diagonal entries in $D$ are the first $r$ singular values of $A, \\sigma_{1} \\geq \\sigma_{2} \\geq \\cdots \\geq$ $\\sigma_{r} \\geq 0$, and there exist an $m \\times m$ orthogonal matrix $U$ and an $n \\times n$ orthogonal matrix $V$ such that\n",
        "$$\n",
        "A=U \\sum V^{T}\n",
        "$$\n",
        "\n",
        "Any factorization $A=U \\sum V^{T}$, with $U$ and $V$ orthogonal and $\\sum$, is called a singular value decomposition SVD of $A$. The matrices $U$ and $V$ are not unique, but the diagonal entries of $\\sum$ are necessarily the singular values of $A$. The column of $U$ in such a decomposition are called left singular vectors of $A$, and the column of $V$ are called right singular vectors of $A$. This type of matrix factorization is illustrated in Fig. 1.4.\n",
        "\n"
      ],
      "metadata": {
        "id": "2K4Fk2MYyzLk"
      }
    },
    {
      "cell_type": "markdown",
      "source": [
        "![Untitled.png](data:image/png;base64,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)"
      ],
      "metadata": {
        "id": "ZDls3ztU0D7S"
      }
    },
    {
      "cell_type": "markdown",
      "source": [
        "*Proof.* Let $\\lambda_{i}$ be and $\\mathbf{v}_{i}$ be as in the proof of Theorem 1.4.1. Then $\\sigma_{i}=$ $\\sqrt{\\lambda_{i}}=\\left\\|A \\mathbf{v}_{i}\\right\\| \\geq 0$ for $1 \\leq i \\leq r$, and $\\left\\{A \\mathbf{v}_{1}, \\ldots, A \\mathbf{v}_{r}\\right\\}$ is an orthogonal basis for $\\operatorname{col}(A)$. For $1 \\leq i \\leq r$, define\n",
        "$$\n",
        "\\mathbf{u}_{i}=\\frac{1}{\\left\\|A \\mathbf{v}_{i}\\right\\|} A \\mathbf{v}_{i}=\\frac{1}{\\sigma_{i}} A \\mathbf{v}_{i}\n",
        "$$\n",
        "so that\n",
        "$$\n",
        "\\begin{equation*}\n",
        "A \\mathbf{v}_{i}=\\sigma_{i} \\mathbf{u}_{\\mathbf{i}} \\quad(1 \\leq i \\leq r) \\tag{1.4.2}\n",
        "\\end{equation*}\n",
        "$$\n",
        "\n",
        "Then $\\mathbf{u}_{1}, \\ldots \\mathbf{u}_{r}$ is an orthonormal basis of $\\operatorname{lcol}(A)$. Extend this set to an orthonormal basis $\\mathbf{u}_{1}, \\ldots \\mathbf{u}_{m}$ of $\\mathbb{R}^{m}$, and let\n",
        "$$\n",
        "U=\\left(\\begin{array}{llll}\n",
        "\\mathbf{u}_{1} & \\mathbf{u}_{2} & \\cdots & \\mathbf{u}_{m}\n",
        "\\end{array}\\right) \\quad \\text { and } \\quad V=\\left(\\begin{array}{llll}\n",
        "\\mathbf{v}_{1} & \\mathbf{v}_{2} & \\cdots & \\mathbf{v}_{n}\n",
        "\\end{array}\\right)\n",
        "$$\n",
        "\n",
        "Then $U$ and $V$ are orthogonal matrices and\n",
        "$$\n",
        "\\begin{aligned}\n",
        "A V & =\\left[\\begin{array}{llllll}\n",
        "A \\mathbf{v}_{1} & \\cdots & A \\mathbf{v}_{r} & 0 & \\cdots & 0\n",
        "\\end{array}\\right] \\\\\n",
        "& =\\left[\\begin{array}{llllll}\n",
        "\\sigma_{1} \\mathbf{u}_{1} & \\cdots & \\sigma_{r} \\mathbf{u}_{r} & 0 & \\cdots & 0\n",
        "\\end{array}\\right]\n",
        "\\end{aligned}\n",
        "$$\n",
        "\n",
        "Let $D$ be the diagonal matrix with diagonal entries $\\sigma_{1}, \\ldots, \\sigma_{r}$. Then\n",
        "$$\n",
        "\\begin{aligned}\n",
        "U \\sum & =\\left(\\begin{array}{llll}\n",
        "\\mathbf{u}_{1} & \\mathbf{u}_{2} & \\cdots & \\mathbf{u}_{m}\n",
        "\\end{array}\\right)\\left(\\begin{array}{cccc|c}\n",
        "\\sigma_{1} & & & 0 & \\\\\n",
        "& \\sigma_{2} & & & 0 \\\\\n",
        "& & \\ddots & & \\\\\n",
        "0 & & & \\sigma_{r} & \\\\\n",
        "\\hline & & 0 & & 0\n",
        "\\end{array}\\right) \\\\\n",
        "& =\\left(\\begin{array}{lllll}\n",
        "\\sigma_{1} \\mathbf{u}_{1} & \\cdots & \\sigma_{r} \\mathbf{u}_{r} & 0 \\cdots & 0\n",
        "\\end{array}\\right)=A V .\n",
        "\\end{aligned}\n",
        "$$\n",
        "\n",
        "Since $V$ is an orthogonal matrices, $U \\sum V^{T}=A V V^{T}=A$."
      ],
      "metadata": {
        "id": "zYIKgDIK0EVq"
      }
    },
    {
      "cell_type": "markdown",
      "source": [
        "**EXAMPLE:** Use numpy library to do SVD (Singular Value Decomposition) on an array size (m,n). In this case $m$ = 9, $n$ = 6, a is the original matrix $A$, U and Vh will be the resulting orthogonal matrices $U$ and $V^T$, and S will be the diagonal matrix $\\sum$."
      ],
      "metadata": {
        "id": "8zjYACm55R0w"
      }
    },
    {
      "cell_type": "code",
      "source": [
        "import numpy as np\n",
        "rng = np.random.default_rng(1)\n",
        "\n",
        "## Create random mxn matrix (m = 9, n = 6).\n",
        "a = rng.normal(size=(9, 6)) + rng.normal(size=(9, 6))\n",
        "\n",
        "## Decompose A into 3 matrixes U, S, Vh and check their size.\n",
        "U, S, Vh = np.linalg.svd(a, full_matrices=True)\n",
        "print(\"Size of Matrix U:\", U.shape,\n",
        "      \"\\nSize of Matrix S:\", S.shape,\n",
        "      \"\\nSize of Matrix Vh:\", Vh.shape)\n",
        "\n",
        "## Diagonalize S (n,0) and insert into mxn matrix smat.\n",
        "smat = np.zeros((9, 6))\n",
        "smat[:6, :6] = np.diag(S)\n",
        "print(\"Size of Matrix smat:\", smat.shape)\n",
        "\n",
        "## Multiply U (mxm), smat(mxn), and Vh(nxn) to see if it is equal to a.\n",
        "prod = np.dot(U, np.dot(smat, Vh))\n",
        "print(np.allclose(a, prod))"
      ],
      "metadata": {
        "colab": {
          "base_uri": "https://localhost:8080/"
        },
        "id": "GZFPTzhR3gV9",
        "outputId": "925d236d-c02c-445f-f939-01383cc0f834"
      },
      "execution_count": null,
      "outputs": [
        {
          "output_type": "stream",
          "name": "stdout",
          "text": [
            "Size of Matrix U: (9, 9) \n",
            "Size of Matrix S: (6,) \n",
            "Size of Matrix Vh: (6, 6)\n",
            "Size of Matrix smat: (9, 6)\n",
            "True\n"
          ]
        }
      ]
    },
    {
      "cell_type": "markdown",
      "source": [
        "Code referenced from orginal documentation: [numpy.linalg.svd](https://numpy.org/doc/stable/reference/generated/numpy.linalg.svd.html)."
      ],
      "metadata": {
        "id": "kNjvtJZOAHW8"
      }
    },
    {
      "cell_type": "markdown",
      "source": [
        "### 1.4.2 Low-rank Matrix Approximations"
      ],
      "metadata": {
        "id": "98b90TuG0ZdD"
      }
    },
    {
      "cell_type": "markdown",
      "source": [
        "In this section, we discuss low-rank approximations of matrices. We first introduce matrix norms, which allow us in particular to talk about the distance between two matrices.\n",
        "\n",
        "**Definition 1.4.3 (Induced norm)**. The 2-norm of a matrix $A \\in \\mathbb{R}^{n \\times m}$ is\n",
        "$$\n",
        "\\begin{equation*}\n",
        "\\|A\\|_{2}=\\max _{0 \\neq \\mathbf{x} \\in \\mathbb{R}^{n}} \\frac{\\|A \\mathbf{x}\\|}{\\|\\mathbf{x}\\|}=\\max _{\\mathbf{x} \\neq 0,\\|\\mathbf{x}\\|=1}\\|A \\mathbf{x}\\|=\\max _{\\mathbf{x} \\neq 0,\\|\\mathbf{x}\\|=1} \\mathbf{x}^{T} A^{T} A \\mathbf{x} \\tag{1.4.3}\n",
        "\\end{equation*}\n",
        "$$\n",
        "\n",
        "Let $A \\in \\mathbb{R}^{n \\times m}$ be a matrix with SVD,\n",
        "$$\n",
        "\\begin{equation*}\n",
        "A=\\sum_{j=1}^{r} \\sigma_{j} \\mathbf{u}_{j} \\mathbf{v}_{j}^{T} \\tag{1.4.4}\n",
        "\\end{equation*}\n",
        "$$\n",
        "\n",
        "For $k<r$, truncate the sum at the $k$ th term\n",
        "$$\n",
        "\\begin{equation*}\n",
        "A_{k}=\\sum_{j=1}^{k} \\sigma_{j} \\mathbf{u}_{j} \\mathbf{v}_{j}^{T} \\tag{1.4.5}\n",
        "\\end{equation*}\n",
        "$$\n",
        "\n",
        "The rank of $A_{k}$ is exactly $k$. Indeed, by construction:\n",
        "1. the vectors $\\left\\{\\mathbf{u}_{j}: j=1, \\ldots, k\\right\\}$ are orthonormal, and\n",
        "2. since $\\sigma_{j}>0$ for $j=1, \\ldots, k$ and the vectors $\\left\\{\\mathbf{v}_{j}: j=1, \\ldots, k\\right\\}$ are orthonormal, $\\left\\{\\mathbf{u}_{j}: j=1, \\ldots, k\\right\\}$ spans the column space of $A_{k}$.\n",
        "\n",
        "**Lemma 1.4.4 (Matrix norms and singular values).** Let $A \\in \\mathbb{R}^{n \\times m}$ be a matrix with SVD,\n",
        "$$\n",
        "A=\\sum_{j=1}^{r} \\sigma_{j} \\mathbf{u}_{j} \\mathbf{v}_{j}^{T}\n",
        "$$\n",
        "where recalling that $\\sigma_{1} \\geq \\sigma_{2} \\geq \\cdots \\sigma_{r}>0$ and letting $A_{k}$ be the truncation defined above. Then\n",
        "$$\n",
        "\\left\\|A-A_{k}\\right\\|_{2}^{2}=\\sigma_{k+1}^{2}\n",
        "$$\n",
        "\n",
        "Proof. For any $\\mathbf{x} \\neq 0$ and $\\|\\mathbf{x}\\|=1$,\n",
        "$$\n",
        "\\begin{aligned}\n",
        "\\left\\|\\left(A-A_{k}\\right) \\mathbf{x}\\right\\|^{2} & =\\left\\|\\sum_{j=k+1}^{r} \\sigma_{j} \\mathbf{u}_{j}\\left(\\mathbf{v}_{j}^{T} \\mathbf{x}\\right)\\right\\|^{2}=\\sum_{j=k+1}^{r} \\sigma_{j}^{2}\\left\\langle\\mathbf{v}_{j}, \\mathbf{x}\\right\\rangle^{2} \\\\\n",
        "& =\\mathbf{x}^{T}\\left(A-A_{k}\\right)^{T}\\left(A-A_{k}\\right) \\mathbf{x}\n",
        "\\end{aligned}\n",
        "$$\n",
        "\n",
        "Because the $\\sigma_{j}$ 's are in decreasing order, this is maximized when $\\left\\langle\\mathbf{v}_{j}, \\mathbf{x}\\right\\rangle=1$ if $j=k+1$ and 0 otherwise. In view of Theorem 1.2.27, that is, we take $\\mathbf{x}=\\mathbf{v}_{k+1}$ and the norm is then $\\sigma_{k+1}^{2}$, as claimed.\n",
        "\n",
        "With additional effort, we can prove the following theorem [5].\n",
        "**Theorem 1.4.5** (Eckart-Young-Mirsky theorem; Low-rank approximation in the induced norm). Let $A \\in \\mathbb{R}^{n \\times m}$ be a matrix with SVD,\n",
        "$$\n",
        "A=\\sum_{j=1}^{r} \\sigma_{j} \\mathbf{u}_{j} \\mathbf{v}_{j}^{T}\n",
        "$$\n",
        "and let $A_{k}$ be the truncation defined above with $k<r$. For any matrix $B \\in \\mathbb{R}^{n \\times m}$ of rank at most $k$,\n",
        "$$\n",
        "\\begin{equation*}\n",
        "\\left\\|A-A_{k}\\right\\|_{2} \\leq\\|A-B\\|_{2} \\tag{1.4.6}\n",
        "\\end{equation*}\n",
        "$$"
      ],
      "metadata": {
        "id": "NA_9XTir0Zsd"
      }
    },
    {
      "cell_type": "markdown",
      "source": [
        "### 1.4.3 Principal Component Analysis"
      ],
      "metadata": {
        "id": "z6ApcL360w3x"
      }
    },
    {
      "cell_type": "markdown",
      "source": [
        "#### 1.4.3.1 Covariance Matrix"
      ],
      "metadata": {
        "id": "yjmLjYoj0w9y"
      }
    },
    {
      "cell_type": "markdown",
      "source": [
        "To prepare for principal component analysis, let $\\left[\\mathbf{X}_{1} \\cdots \\mathbf{X}_{N}\\right]$ be a $p \\times N$ matrix of observation, such as described above. The **sample mean** $M$ of\n",
        "the observation vectors $\\mathbf{X}_{1}, \\ldots, \\mathbf{X}_{n}$ is given by\n",
        "$$\n",
        "\\mathbf{M}=\\frac{1}{N}\\left(\\mathbf{X}_{1}+\\cdots+\\mathbf{X}_{N}\\right)\n",
        "$$"
      ],
      "metadata": {
        "id": "i0PHkf660xEp"
      }
    },
    {
      "cell_type": "markdown",
      "source": [
        "![Untitled.png](data:image/png;base64,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)"
      ],
      "metadata": {
        "id": "ulhlhK7H1RbR"
      }
    },
    {
      "cell_type": "markdown",
      "source": [
        "Figure 1.5 A scatter plot of observation vectors $\\mathbf{X}_{1}, \\ldots, \\mathbf{X}_{N}$.\n",
        "\n",
        "For the data in Fig. 1.5, the sample mean is the point in the \"center\" of the scatter plot. For $k=1, \\ldots, N$, let\n",
        "$$\n",
        "\\hat{\\mathbf{X}}_{k}=\\mathbf{X}_{k}-\\mathbf{M}\n",
        "$$\n",
        "\n",
        "The columns of the $p \\times N$ matrix\n",
        "$$\n",
        "B=\\left[\\hat{\\mathbf{X}}_{1}, \\hat{\\mathbf{X}}_{2}, \\cdots \\hat{\\mathbf{X}}_{N}\\right]\n",
        "$$\n",
        "have a zero sample mean, and B is said to be in **mean-deviation form**. When the sample mean is subtracted from the data in Fig. 1.5, the resulting scatter plot has the form in Fig. 1.6.\n",
        "\n",
        "The **(sample) covariance matrix** is the $p \\times p$ matrix S defined by\n",
        "$$\n",
        "S=\\frac{1}{N-1} B B^{T}\n",
        "$$\n",
        "\n",
        "Since any matrix of the form $B B^{T}$ is positive semidefinite, so is S ."
      ],
      "metadata": {
        "id": "3NJsUSZ_1RgD"
      }
    },
    {
      "cell_type": "markdown",
      "source": [
        "**EXAMPLE:** Use numpy library to construct covariance matrix on an array size (p,N). In this case $p$ = 2, $N$ = 3, and x is the matrix containing $\\left[\\mathbf{X}_{1} , \\mathbf{X}_{2}\\right]$. Set the observation vectors\n",
        "$\\mathbf{X}_{1}  = \\left[\\begin{array}{lll}\n",
        "0 & 1 & 2\n",
        "\\end{array}\\right]$\n",
        "and\n",
        "$\\mathbf{X}_{2}  = \\left[\\begin{array}{lll}\n",
        "2 & 1 & 0\n",
        "\\end{array}\\right]$.\n",
        "The covariance matrix size $p \\times p$ should return\n",
        "$\\left[\\begin{array}{ll}\n",
        "1 & -1 \\\\\n",
        "-1 & 1\n",
        "\\end{array}\\right]$, since $\\mathbf{X}_{1}$ and $\\mathbf{X}_{2}$ correlate perfectly but in different directions."
      ],
      "metadata": {
        "id": "gyuFalJCLnoF"
      }
    },
    {
      "cell_type": "code",
      "source": [
        "import numpy as np\n",
        "\n",
        "## Create x\n",
        "x = np.array([[0, 1, 2], [2, 1, 0]])\n",
        "\n",
        "## Determine covariance matrix\n",
        "np.cov(x)"
      ],
      "metadata": {
        "colab": {
          "base_uri": "https://localhost:8080/"
        },
        "id": "jW1vV-UBLnum",
        "outputId": "70cf9fae-c149-4f1a-f033-21f80f355e41"
      },
      "execution_count": 24,
      "outputs": [
        {
          "output_type": "execute_result",
          "data": {
            "text/plain": [
              "array([[ 1., -1.],\n",
              "       [-1.,  1.]])"
            ]
          },
          "metadata": {},
          "execution_count": 24
        }
      ]
    },
    {
      "cell_type": "markdown",
      "source": [
        "Code referenced from orginal documentation: [numpy.cov](https://numpy.org/doc/stable/reference/generated/numpy.cov.html)."
      ],
      "metadata": {
        "id": "8KunnOK6Ln3p"
      }
    },
    {
      "cell_type": "markdown",
      "source": [
        "#### 1.4.3.2 Principal Component Analysis"
      ],
      "metadata": {
        "id": "lzlesonx1r85"
      }
    },
    {
      "cell_type": "markdown",
      "source": [
        "Now assume that the columns of the $p \\times N$ data matrix\n",
        "$$\n",
        "X=\\left[\\mathbf{X}_{1}, \\mathbf{X}_{2}, \\cdots \\mathbf{X}_{N}\\right]\n",
        "$$"
      ],
      "metadata": {
        "id": "TN0_5X411zPd"
      }
    },
    {
      "cell_type": "markdown",
      "source": [
        "![Screenshot 2024-09-15 105706.jpg](data:image/jpeg;base64,/9j/4AAQSkZJRgABAQEAYABgAAD/2wBDAAMCAgMCAgMDAwMEAwMEBQgFBQQEBQoHBwYIDAoMDAsKCwsNDhIQDQ4RDgsLEBYQERMUFRUVDA8XGBYUGBIUFRT/2wBDAQMEBAUEBQkFBQkUDQsNFBQUFBQUFBQUFBQUFBQUFBQUFBQUFBQUFBQUFBQUFBQUFBQUFBQUFBQUFBQUFBQUFBT/wAARCADfAVwDASIAAhEBAxEB/8QAHwAAAQUBAQEBAQEAAAAAAAAAAAECAwQFBgcICQoL/8QAtRAAAgEDAwIEAwUFBAQAAAF9AQIDAAQRBRIhMUEGE1FhByJxFDKBkaEII0KxwRVS0fAkM2JyggkKFhcYGRolJicoKSo0NTY3ODk6Q0RFRkdISUpTVFVWV1hZWmNkZWZnaGlqc3R1dnd4eXqDhIWGh4iJipKTlJWWl5iZmqKjpKWmp6ipqrKztLW2t7i5usLDxMXGx8jJytLT1NXW19jZ2uHi4+Tl5ufo6erx8vP09fb3+Pn6/8QAHwEAAwEBAQEBAQEBAQAAAAAAAAECAwQFBgcICQoL/8QAtREAAgECBAQDBAcFBAQAAQJ3AAECAxEEBSExBhJBUQdhcRMiMoEIFEKRobHBCSMzUvAVYnLRChYkNOEl8RcYGRomJygpKjU2Nzg5OkNERUZHSElKU1RVVldYWVpjZGVmZ2hpanN0dXZ3eHl6goOEhYaHiImKkpOUlZaXmJmaoqOkpaanqKmqsrO0tba3uLm6wsPExcbHyMnK0tPU1dbX2Nna4uPk5ebn6Onq8vP09fb3+Pn6/9oADAMBAAIRAxEAPwD9U6KKKACiiigAooooAKKKKACiiigAooooAKKKKACiiigAooooAKKKKACiiigAooooAKKKKACiiigAooooAKKKKACiiigAooooAKKKKACiiigAooooAKKKKACiiigAooooAKKKKACiiigAooooAKKKKACiiigAooooAKKKKACiiigAooooAKKKKACiiigArxL9r74wal8EfhLaeIdJguJ72TxDo9li3hMp8qS+h85SBzh4hJGPeRQOSK9trxj9rKE3Hwx0SIHBfxp4WXP11yyFAHs9FFFABRRRQAUUUUAFFFFABRRRQAUUUUAFFFFABRRRQAUUUUAFFFFABRRRQAUUUUAFFFFABRRRQAUUUUAFFFFABRRRQAUUUUAFFFFABRRRQAUUUUAFeP8A7UW1vAvhiJwcSeOPCyjHtrdm39K9grx39qL/AJEzwh/2Pfhf/wBPNpQB7FRRRQAUV8t/t6ftj6p+x74U8KappfhJPE8utX8ls7XEzRQQKiBipZVPzvn5f9xjzjFfSHhfWm8SeGdI1drObT21CzhuzaXAxLAXQNscf3lzg+4oA1KKKKACiiigAooooAKKKKACiiigAooooAKKKKACiiigAooooAKKKKACiiigAooooAKKKKACiiigAooooAKKKKACiiigAooooAKKKKACvzv1b9sDxb8avjbqfw01r4dXHhrRfDPjzQfs2rO0oZ2i1q2REm3KFzKuZUCnpGfvD5h+iFeJftVM39i/DdFXcZPiD4eHXoBeoxP5LQB7bRRXnHwr/aK+G/xt1bX9M8D+LbHxFfaDKIdQhtQ4MRJZQyllAkQlSN6bl460Ad/eafa6jGsd3bQ3UauJFWaMOAwOQwB7j1qxRRQAUV8p/BX4NfH3wr+1v8Q/F/jL4g/2z8LdS+0f2Ton26SVI1eVWt0S3ZQkBijBVmXlj/e3Ej6soAKKKKACiiigAooooAKKKKACiiigAooooAKKKKACiiigAooooAKKKKACiiigAooooAKKKKACiiigAooooAKKKKACiq+oahb6Tp9zfXky29pbRNNNM5wqIoJZj7AAmvK/2e/2p/h3+1Bp+uXfgDVptRTRrhILyO5tXt3TeGMbhXAyrbHwevynIFAHrlFfOP7c3wf+LXxo+F+m6R8IvGR8IaxBqK3F4VvpbE3UARhsE8QLDDFW29GxzyAD658G/DfiXwf8KvCmieMdbHiTxRYadDb6jqoJP2mZVAZtzAFvTcwBbGTyTQB2VeJ/tRZaz+F0Yx8/xA0Tk9sTM3/sv61Y+Gf7XHwy+L3xY8UfDjwxrkl94o8O+YbuFrZ0jcRSCKUxORh9jsFOPXIyOaP2ko1k/wCFWBhkf8J5pZ/EeaR+tAHsleM/Aj9kX4Zfs3a94k1jwJokumXuvMPtLTXTzLHGGZhFEGPyICxOOvAyTgV5N+1x+z38fvip8bPAXiH4X/E7/hEPCmmRxJf6f9unt9kyzs7zmKNStwGjKpsc4+THRia+v6APBP2tP2xvCf7H+h+HtR8T6Zqurtrd09vb2+lohYLGqtI7F2UAAMuBnJJ9ASPavDuu2nijw/pms2DM9jqNrFeW7SKVYxyIHUkHkHBHFUPGXw98L/EbT4LHxX4b0nxNZW8y3ENvrFjFdRxyjIDqsikBgCeRzya31UIoVQFUDAAHAoAR3WNSzMFUdSxwKdXzV+3r+y54i/ay+ENh4U8N+Jbfw9eWmpx37pfGQWt2io67JNgJ4Lhh8pGV6dx6z8B/h1f/AAj+Dfg/wbqmtSeIdQ0TTorObUpM5mZR2ySdo+6uTnaooA7yiiigAooooAKKKKACiiigAooooAKKKKACiiigAooooAKKKKACiiigAooooAKKKKACiiigAooooAKKKKACiiigCK6tYb61mtrmJLi3mQxyRSqGV1IwVIPBBBxiuA+Dn7Pfw8/Z/sdVs/h94XtfDUGqTi5vBA8kjTOAQuWkZiFXJwoO1dxwBk16JRQAUUV8p/AH9srxH8ZP2oviR8LNQ+HV14f0rwv5/kaxI7lm8qZYl84FQo84MZE2nop+8PmAB7J4G/Zy+G3w1+IXiLxz4Z8JWOkeK/EG7+0tShLlptzh3AVmKxhnAZggXcQCckV57+2h8WvCfwd0T4a654v1aPS9Ng8Y2c7sY3lfZHFMXZY0BdguRnaDjI9RX0VXy5+3l8EfC3x00X4WaB4njuBDdeMreyFxZy+XOkctvOZFQkEfN5a9Qfu0AfSHhnxJpfjLw7puu6Jew6lpGpW8d3aXkByk0TqGRx7EEV4t+2Z+1dbfsg/DGw8Wz+GLrxU97qUemxWkNyLZFZkdy0kpR9oxGcDackgccmvYPA3gvSPhz4N0XwtoFr9i0XR7SOys7fcWKRRqFUFjyTgck8k1palpVlrVm9pqFnb39q5BaC5iWRGwcjKsCDggGgDE+GfjiH4mfDrwx4utrK406313TbfUo7S7XEsKyxq4RvcBsVhftAfGC3+Afwb8U/EC60q51uHQ7UTnT7RgrzEuqKNxB2rlwWbB2qGODjFeggBQABgUy4t4rqCSCeNJoZFKPHIoZWUjBBB6gjtQB5J+yl+0Rb/tR/BjTPH1voNz4bF3PNbvYXEomCtG5UlJAq71PrtHIIxxXr9V7GwttLs4rSytobS1hXbHBAgREHoFHAH0r5c+B/7ZXiP4s/tYfEX4S33w6utD0jwz9oEOtO7lm8qVY1aUFQoEwYumD0A+8PmAB9V0UUUAFFFFABRRRQAUUUUAFFFFABRRRQAUUUUAFFFFABRRRQAUUUUAFFFFABRRRQAUUUUAQX1xJa2NxNDbSXk0cbOltCyq8rAEhFLEKCTwNxA55IryT/hdHxB/6IB4y/8ABxoP/wAsK9iooA8d/wCF0fEH/ogHjL/wcaD/APLCj/hdHxB/6IB4y/8ABxoP/wAsK9iooA8ii+M3jplPmfATxsjZ6LqugMP/AE5Cn/8AC5PG3/RB/HH/AIM9A/8AlnXrVFAHzl8XP2xrn4FeCrnxb43+DnjnRfD9vJHDLefatFn2s7BUGyLUGY5JHQU74Y/tgX3xl8D6b4w8G/Bbx5rXhzUfM+y3q3OixCTy5Gjf5JNQVhh0YcgdPSvaPiD8O/DXxW8JX3hjxdo1tr2g3wUXFjdqSj7WDKcgggggEEEEEcVP4J8E6D8N/Cum+GvDGlW+i6Dp0Xk2tjartjiXJJx6kkkknkkkkkmgDzn/AIXl41/6IF4+/wDA/Qf/AJZUf8Ly8a/9EC8ff+B+g/8Ayyr2KigD4m+Ef/BSW9+Lnxp8X/DzTPgn4puNQ0LziILPULE3YEMoim+0JNLFFGVdlHyTSZJ4z1rY+PXxu8T3mufCZbr4I+ObBrfxrbzRJcT6Q32qRbO8xFGY75hvIJYFiq4Q/NnAP1Zp3hXRNH1fUNVsNHsLLVNRKm9vre1SOe6K/d8xwNz47bicV80f8FDJvHtv4J+GT/DCKGfx2PGkbaVHcBCrSjS9Sbo5CFsAlQ3y7gM8UAeg/wDDQHjD/o3/AOIv/gRon/yxrxT9rH4mftIePPh7ZaZ8Gfhf4z8Fa79vSW91DUJ9Hy1sEb93GUvJSCXKE/KOAeeoPqn7EmofHDUvg/NL8e4Eg8Wf2jKtqWjgjne02ptMqwfuw2/zAMAHaFyO5+gqAPnP4d/HT4p6d4C8O2vjD4G+OtT8VwafBHqt7YzaKsE90EAlkQG/XCswJHyjr0HSuh/4aE8WR4MvwB+JCp0zHJorn8hqNe118n/tc/Bz9oL4jfFj4car8JviAPCnhfTZFOrWgvpLcFxKGaWSNVIuUMYC+W2RkHjDE0Aejf8ADRXiL/ognxQ/796P/wDLGj/horxF/wBEE+KH/fvR/wD5Y17VRQB4r/w0V4i/6IJ8UP8Av3o//wAsaP8AhorxF/0QT4of9+9H/wDljXtVFAHh0n7SuvRuVPwD+KhI/u2ukkfmNQpv/DTGu/8ARAvit/4CaV/8sK9zooA8Rh/aT1uTO74EfFKLH9+z0zn8r81h6z+1l4k0vxHpWnRfs8/FS7trxXMl1HYWZEJBGAStyyDOT9906cA84+iqKAKWjahLqulWt5NYXOlyzRh2s7zy/Ohz/C/lsy5+jEe9XaKKACiiigAooooAKKKKACiiigAooooAKKKKACiiigAooooAKKKKACiiigAooooAKKK+Rv29/EX7SOg3Hw9HwCsZruCa8lXV2tbSC4bfmPyEl80HZCQZdzDGMDLDjIB9c0VFamZrWE3CqtwUXzFj+6GxyB7ZqWgDy74hftPfC34U+PtD8FeLPGVjovifWthsrCdZCWDuUQu6qUiDMCAZCoODivUa8R+LH7Gvwq+NnxQ0D4geLNBkvvEejCJYZI7uSKKZY3Mkayopw4ViT75wcjivbqAPlP8AZ6+Cvx68E/tOfErxV4/+In/CQ/DvVfP/ALH0f7bLMqF51eApAyhLfy4gyEIfmLfxda9C/aCUy/EH4AxY3KfHLOVHqui6oQfwr2qvnD9sr4peHfgrdfBvxr4su3sfD+k+L5pLmaOJpWG7RNUjRVVQSSzuqj3POBzQB9H18p/tFfsu/FD4rftL/DTx94W+Jr+GfCXh3yPt+iiedGYpO0kjRon7uQyoVjYSYwEH3h8o97+Efxa8M/HL4faV408H351HQNSVjDM0bRuGRyjoyMAVZWVgR7cZGDXY0AFFFFABRRRQAUUUUAFFFFABRRRQAUUUUAFFFFABRRRQAUUUUAFFFFABRRRQAUUUUAFFFFABRRRQAUUUUAFFFFABRRRQAUUUUAFFFUNe0eHxFoeo6VcPLFb31tJayPA+yRVdSpKt2ODwexoAZofiXSPFFvNcaNqtlq0EMrQSS2NwkypIv3kYqSAwyMg8itKvnT9jX9jDRv2OdE8T2GleJNQ8SPr11FPJJeRLEsSRqwRVRSRu+dtzZ5+XgYr6LoA8w8A/tNfDL4ofEjxH4B8L+LLXVvFnh7f/AGjp8cUqmPY4jkKuyhJArkKxRmwSM9a4L9r74Y+G/jXrHwb8C+LrBtR8Pax4ouxcwpM0Tfu9D1N0KspBBV1Vh7qM5HFdf8N/2Ufhj8Jfin4n+Inhjw6NP8VeIvM+23X2iR0AkkEkojRmKoHdQxwO2BgcVW+NU2340fs+xY+94n1Fs/TQdSH9aAO2+Evwn8MfA/4f6V4L8H6f/ZugaarCCFpGkYs7l3dnYkszMzEk+vGBgV2FFFABRRRQAUUUUAFFFFABRRRQAUUUUAFFFFABRRRQAUUUUAFFFFABRRRQAUUUUAFFFFABRRRQAUUUUAFFFFABRRRQAUUUUAFFFFABRRRQAUUUUAFeK/GaTHx5/Z+j3fe1vVW2+uNGvBn9f1r2qvFPjBEJP2hPgE23d5eo6wwPp/xK5hn9f1oA9rooooAKKKKACiiigAooooAKKKKACiiigAooooAKKKKACiiigAooooAKKKKACiiigAooooAKKKKACiiigAooooAKKKKACiiigAooooAKKKKACiiigArxn4qRmT9oj4HYbCpLrTkev+g4/wDZq9mry/4geG9S1T43fCjVrW0km07S/wC1jeXCrlIfMtlSPce25uB9KAPUKKKKACiiigAooooAKKKKACiiigAooooAKKKKACiiigAooooAKKKKACiiigAooooAKKKKACiiigAooooAKKKKACiiigAooooAKKKKACiiigAooooAKKKKACiiigAooooAKKKKACiiigAooooAKKKKACiiigAooooAK8z/AGkPizc/A/4N6940s7W0vLjTmt1WK/laKD97cRxFnZQSFUSFuB2r0yuT+KXw10z4ueCbvwvrE93bWF1NbzPJYuqShoZ0mUAsrDBaNQeOhPTrUu7tby/PUasnqeO+Ff2ttOhje78V674Um0qHQbjW5b7wtNdXkbKl4lsqxlohvJZwu0fMXIABHNdZ4X/as8C+K/EcXh+H+2NP1trmezew1TSprWaKaG1F1Ijq4GMRMCD0OeCab8cP2d9I+KR1zWpILrUdcuPDzaHb2P8AaIsoCBdR3UcglEMjRyrLEhD4ZRjlDXl3w8/Y11jUDqfiLxx4r1nSfGV1r8mrW19o+owXVzDC9ilm8Msz2iROZI1OdkKbcrtIIyS7cWrapP7+bT/yXV+g3ZNPpf8A9t/+S0PRrT9sj4ZXixyrf6ktodCj8SS3h0ucwW1hIsjJJK4UhCxjKhT8zMQACTXV+DPjVpfxO8Ka/qfg+zudR1TR5GtpdG1FTYTi48tZEjfePkDq6MGwRhvUEVxWi/sY+AtI8I6z4akuNZ1HStW8M2XhW4S8uYywtbUytFIpSNcS5mJLcr8q/KOc938Hvg/p3wb8N3Gkafeyais83nPczafYWch+UKFK2dvAjYC/eZSxJOTjAFyteaj52+92/wDJbfP7iNfd/H7l/wC3X+VjB8C/tBWeufs4J8W/EenjQLKHT7rUL6zt5/tPkrA8isqOVTeT5fHA5NL+zt8d1+O2g6nqL22m6XdWs0YOk2t9JcXNtFJGHjNyHhiCuwJI2b0I+7I3Wmw/sz+HYfhnpXw/Osa5L4Ss7W+s7nT2uIguoxXQkDC4KxgnYZSyFNuCATnFa/wo+CWn/CrUNb1Ma7rPifXNYS2hutV1x4DMYbdCkEQEMUSBVVm527mLEsSaFbmm3t0+/X8LDl8Mbb63/C36/gcR8VP2mrr4Y6p4h06bQ4ru603VLBIkEzL5mmy27Tz3R44Ma294MdCY15Ga0tJ/al8NHVdUtNXL2iQ6vJYwT20LzRpbi4NqlxOwGIw9xHOo6/Km44GSOm8X/Anwx448cTeKdUF3JfTaFP4elgSRRA9vKWy5UqT5iiSVVbOAJXGDnjmdJ/ZO8JaBf+HbzT7y9S40mxt9Plku7ayvGv44ZHkV5mmt3KyF5JCzw+WTvPopVQ3XNt/X+S/8CfZBPZ8v9f1d/wDgK7slk/ah8LaLoNxf6u11O9qt/dXi6LYXF2tnaW11LAZ5sICg3RMORyVcrlVLCn4f/ag06bU/Eun6tpuoLc2OqahZae1np0xhvFtrf7R5QlI2GcxLI20EDCHoeK5f4qfsvaldaHf6N4EuryyOu2F/pmp6lcarFEphurmW4KyxG0kMiI9zOU8ponw20tglh6jZ/AXw/am3JutQl8rWrvXdrSIFae4s5bSRDhM+X5c7kDOQwBLEZBz9/kk1vZpf4rq34fjc19znin8N7v0tt83+FjA8RftG2kHwDX4g6bai0v5tOt9Si0XVFP2gRSOgJMSHew2uSCvXjHXFaVx+0t4NtNNkuZhq0d5FdzWUulPpky3sbwxRzSFoSuQoimifd0IlQDLMFqdP2ffD0nwxtPBd7c3d/Ha2cOnx6zLFbrqAt4XVoo/MWILgBFX7vIHPJzVDxl+zL4Z8Y69da5LeXtrrE+pSakLnyLS6WNpLS2tZIhFcQSRlGSzhblSwYEhgDtrWp8b5Ph1t9+n4bmdO3L+83Fg/aS8Mtql9bJLLq+6eIadBolnPdXFxA1lDdNMyBOFVJ1O4EjDIPvNtrF0v9q7QLvxfJFLFdnwpdaVo2o2GrQ6dOwQX8kyIblsYiUskQG4A5ds8AkR+O/2f7nTdSbxF4He+XxTNNhrlNSt7FYIjZw2rRqps5kMTC2hLKEDKVyhGAtXfB/7Luj6P8O7bw/qeqX1xdyaHouj309rIiof7OYyRvGGQkbnZt27ORjG0801Z38rfk7/pr6k62S6tfqv0udF4T+PWh+IvAniTxbf2Wo+HdH0G9vbO6k1K3YFvs07wsyBcl8tGQFAJyduCa5rT/wBp2yjvPHd1rGi6vp+i+HJbOPa+lzJdxrLbmZ3mRuijHBHXIAy3FdUvwN0ZvBXi3wncajqV1oniG9ur8xO8SvYyXEpnfyHWMHiZmkXfvIOB0GK43Wv2RdG8TX1zqOseMfE2qavdTCa4vrpbBi+LZrbAi+y+Up8tuGVAynkEZbOb5uXTey+/r/X3Frl5tdrv7uh0ek/tEaLrOqeLLe10fWrmz8PxWs5v7e0LxXaTxJKjRn02yA/NjgE8AVpyfGXR9Q8J+D/EmjXMNzpPiLUbeygkuElRv3hcEBQpIcFCMNgZByRXK337KegXVm9nD4h1y2tGj0sG3xaTRtNYIscEzLJbsHYoihlYFDgMFVgCOk0f4D6Do3gjwt4XjvtSlsfDuprq1rNI8QlkmEskmJNsYXbulbhVXgDmrla/u/zL/wABvq/Vr+tdM1fl13s/vtp8r/13l+G3x48K/FW9S10RtRjkmsF1O2OoafNardWpbYZYi6jequQpx0yp6EE8y37XXgFYJJyuv/Zktpb7zxod0YzawyeXcXAbZgxxNw7dsjGciur8D/BXRPAF14buNPutQmfQdCbw9bC6kRg9u0kUhZ9qDMmYV5GBgnj0xT+zX4YPh8aP9u1b7N/YGo+HN3nRb/s97Kskr58vHmAqNpxgDOVNJ7q3nf8AHl+/3b+rNNLu+2n6X+7W3ojUtfj54QvvFk3h61ubu6vUNxFHJDZyPDcTQIXmgicDDyKoJ2jqVYDJVgMdf2ovBclpA8EetXl9NeXNgNLtNLlnu1ngiSWVGRAcYjkV85wQeueKot+yf4UV/E8cF9f2tl4ghuo7i3ht7LzInuEKzSR3BtzOpJLNtMhTLMNu07aveBf2afD3gXWrbVrfVNUvL6G8uL796trDEZJrSG1YCOGCNVURwIQFAwck5zik72dt7f8Ak1/yt+nmQul+/wCFtPnf9Tprz40eDrPwbB4mGsx3WnXFta3VvHaq0tzMtzsFuEgUeYWkMsYVduSXFeeaL+1joUf/AAk7+IbW+046dq9zaW9lHp032tbWC2tpZpp4zkqEa4wSOCCu0Nnnr5v2f/C7fDnSvCVuLiyOl2thbWmuW6wjUUay8o28pkMZVnVoYzhkKHGCuOK5W4/ZF8O3moPq1z4g1i+8QS3lxeT6tf22n3TymeOBJUMUlq0IX/RYiNsYZSDg4JUtfG+2v5q3638ttS5Wsku/6P8A4FvxNjxJ+0t4T0/wje6tpt8tzcRrqHlRzQyhAbNQ0zybFZljw0ZDAHcJY8Z3Cn/ED9pPw38PF8SW97ZapPqujaRcaytlHaspvYYAplMLHg7d65JxwSRkA4XWf2Z/CWt6j40vZJdQt5fFWljSrtLeSNI7dNiRvJAvl4R5FigDE5B8mPAGDnHuP2RvCl5rniDUbnVtZmXWrfVLaa3zaqEW/VRcYkEAlcjaNnmOwQAKBgYpPy7P7+n37/h5ija65u/4aflt+PkasP7RejR6xd2F3Z3wvWNqtlo9rZTS6jK0tu07B4guBtRGYkMQB1IJAIP2pfAEl1ZxwXeo3VvcQ2c73sOmTtb2sd1K0MJnfZiImVGQhsFSDuAAJDJP2btPbXIvEMXizxDb+LI/IK67F9j84eXbtbsPLNuYiHRvmBQ8qpXbiix/Ze8JaboOqaTb3erJbalaafa3DGeNnP2S5kuVkyY/vySyuXJyDngLV6cz7X/AiN+RX3t+JD8TPjw3gD4raX4euY/sWgR6RLrGp6lJp010XHmpDFBD5bja7O+MlXJYogXLZGpB+0Z4Rn1Kw0ry9Yj1u8vn03+yX0uYXUMyRpKwlTb8i+VIsm8nbtyc8Vo/ED4J6F8SNTnv9TudQguZNNGnI1pKieTtuY7mOZMocSpLFGwJyvHKmqPh34B6Roniy38UXOs6vrPiNLme6n1C+eBWuWlt0t8OkcSIFSONQoQLzkncSaiN+Sz31+/m0/8AJf08y5fFdbaf+kq//k1/6sYVr+158P7q2iuVGvJaSWsWoi5k0O6WIWbvs+1FimBEr/KW7dcFea9qryT/AIZl8L/8IuNB+36v9j/4RgeFN/nReZ9lD79+fLx5ue+Nv+zXpeh6XNpFrLDPqd3qrPPLMs14Iw0au5ZYh5aKNiAhVyC2AMljzV6W08/z0/Cz+8T302/4H+d19xo0UUVIBRRRQAUUUUAFFFFABRRRQAUUUUAFFFFABRRRQAUUUUAFFFFABRRRQAUUUUAFFFFABRRRQAUUUUAFFFFABRRRQAUUUUAFFFFABRRRQAUUUUAFFFFABRRRQAUUUUAFFFFABRRRQAUUUUAf/9k=)"
      ],
      "metadata": {
        "id": "96oal1-t12h-"
      }
    },
    {
      "cell_type": "markdown",
      "source": [
        "Figure 1.6 Weight-height data in mean-deviation form.\n",
        "is already in mean-deviation form. The goal of principal component analysis (PCA) is to find $k,(k \\leq p)$ orthonormal vectors $\\mathbf{v}_{\\mathbf{1}}, \\ldots, \\mathbf{v}_{\\mathbf{k}}$, (top $k$ principal components) that maximize the objective function,\n",
        "$$\n",
        "\\begin{equation*}\n",
        "\\frac{1}{N} \\sum_{i=1}^{N} \\sum_{j=1}^{k}\\left\\langle\\mathbf{X}_{i} \\cdot \\mathbf{v}_{\\mathbf{j}}\\right\\rangle^{2} \\tag{1.4.7}\n",
        "\\end{equation*}\n",
        "$$\n",
        "$\\left\\langle\\mathbf{X}_{\\mathbf{i}} \\cdot \\mathbf{v}_{\\mathbf{j}}\\right\\rangle$ is the length of projection of $\\mathbf{X}_{i}$ on $\\mathbf{v}_{\\mathbf{j}}$.\n",
        "On the other hand, for each $j$, it is easy to see that\n",
        "$$\n",
        "\\begin{equation*}\n",
        "\\mathbf{v}_{\\mathbf{j}}^{T} X X^{T} \\mathbf{v}_{\\mathbf{j}}=\\left(X^{T} \\mathbf{v}_{\\mathbf{j}}\\right)^{T}\\left(X^{T} \\mathbf{v}_{\\mathbf{j}}\\right)=\\sum_{i=1}^{N}\\left\\langle\\mathbf{X}_{\\mathbf{i}} \\cdot \\mathbf{v}_{\\mathbf{j}}\\right\\rangle^{2} \\tag{1.4.8}\n",
        "\\end{equation*}\n",
        "$$\n",
        "where $X X^{T}$ is a $p \\times p$ matrix. As a result, for each $j \\leq k$, the variancemaximization problem can be rephrased as\n",
        "$$\n",
        "\\begin{equation*}\n",
        "\\operatorname{argmax}_{\\mathbf{v}:\\|\\mathbf{v}\\|=1} \\mathbf{v}_{\\mathbf{j}}^{T} X X^{T} \\mathbf{v}_{\\mathbf{j}} \\tag{1.4.9}\n",
        "\\end{equation*}\n",
        "$$\n",
        "\n",
        "Assume that\n",
        "$$\n",
        "X X^{T}=V \\operatorname{diag}\\left(\\lambda_{1}, \\ldots ., \\lambda_{p}\\right) V^{T} \\text {, or } V^{T} X X^{T} V=\\left(\\lambda_{1}, \\ldots ., \\lambda_{p}\\right)\n",
        "$$\n",
        "\n",
        "In view of Theorem 1.4.5, we conclude that the optimal choice of the first $k$ eigenvectors of $X X^{T}$ corresponding to the first $k$ largest eigenvalues, which are also the first $k$ columns of $V=\\left[\\mathbf{v}_{1}, \\cdots, \\mathbf{v}_{p}\\right]$ of the covariance matrix $X X^{T}$, which are called the principal components of the data (in the matrices of observations). The first principal component is the eigenvector\n",
        "corresponding to the largest eigenvalue of $X X^{T}$, the second principal component is the eigenvector corresponding to the second largest eigenvalue, and so on.\n",
        "\n",
        "The orthogonal $p \\times p$ matrix $V=\\left[\\mathbf{v}_{1}, \\cdots, \\mathbf{v}_{p}\\right]$ that determines a change of variable, $\\mathbf{x}=V \\mathbf{y}$, or\n",
        "$$\n",
        "\\left(\\begin{array}{c}\n",
        "x_{1} \\\\\n",
        "x_{2} \\\\\n",
        "\\vdots \\\\\n",
        "x_{p}\n",
        "\\end{array}\\right)=\\left(\\begin{array}{llll}\n",
        "\\mathbf{v}_{\\mathbf{1}} & \\mathbf{v}_{\\mathbf{2}} & \\cdots & \\mathbf{v}_{\\mathbf{p}}\n",
        "\\end{array}\\right)\\left(\\begin{array}{c}\n",
        "y_{1} \\\\\n",
        "y_{2} \\\\\n",
        "\\vdots \\\\\n",
        "y_{p}\n",
        "\\end{array}\\right)\n",
        "$$\n",
        "with the property that the new variables $y_{1}, \\ldots, y_{p}$ are uncorrelated and are arranged in order of decreasing variance. Indeed, we have\n",
        "$$\n",
        "\\mathbf{x}^{T} X X^{T} \\mathbf{x}=\\mathbf{y}^{T} V^{T} X X^{T} V \\mathbf{y}=\\mathbf{y}^{T} \\operatorname{diag}\\left(\\lambda_{1}, \\ldots ., \\lambda_{p}\\right) \\mathbf{y}=\\sum_{1}^{p} \\lambda_{i} y_{i}^{2}\n",
        "$$\n",
        "\n",
        "The orthogonal change of variable $\\mathbf{x}=V \\mathbf{y}$ that each observation vector $\\mathbf{x}$ receives a \"new name\" $\\mathbf{y}$, such that $\\mathbf{x}=V \\mathbf{y}$. Notice that $\\mathbf{y}=V^{-1} \\mathbf{x}=V^{T} \\mathbf{x}$. Let $v_{1 i}, \\ldots, v_{p i}$ be the entries in $\\mathbf{v}_{i}$. Since $\\mathbf{v}_{i}^{T}$ the $i$ th row of $V^{T}$ the equation $\\mathbf{y}=V^{T} \\mathbf{x}$ shows that\n",
        "$$\n",
        "y_{i}=\\mathbf{v}_{i}^{T} \\mathbf{x}=v_{1 i} x_{1}+v_{2 i} x_{2}+\\cdots+v_{p i} x_{p}\n",
        "$$\n",
        "\n",
        "Thus $y_{i}$ is a linear combination of the original variables $x_{1}, \\ldots, x_{p}$, using the entries the eigenvector $\\mathbf{v}_{i}$ as weights, which are called loadings."
      ],
      "metadata": {
        "id": "6tUIkkhc12qX"
      }
    },
    {
      "cell_type": "markdown",
      "source": [
        "**EXAMPLE:** Use scikit-learn library to do PCA (Principal component analysis) on an array size (p,N). In this case $p$ = 6, $N$ = 2, X is the matrix containing $\\left[\\mathbf{X}_{1} \\cdots \\mathbf{X}_{N}\\right]$."
      ],
      "metadata": {
        "id": "tH7F7hSv-IPn"
      }
    },
    {
      "cell_type": "code",
      "source": [
        "import numpy as np\n",
        "from sklearn.decomposition import PCA\n",
        "\n",
        "X = np.array([[-1, -1], [-2, -1], [-3, -2], [1, 1], [2, 1], [3, 2]])\n",
        "\n",
        "## Create model PCA with n_components set to N using standard SVD\n",
        "pca = PCA(n_components=2, svd_solver='full')\n",
        "\n",
        "## Fit model and return singular values\n",
        "pca.fit(X)\n",
        "print(pca.singular_values_)"
      ],
      "metadata": {
        "colab": {
          "base_uri": "https://localhost:8080/"
        },
        "id": "vd7fFbdz-JY2",
        "outputId": "d78e18be-33fd-48d7-972b-947eff5f0010"
      },
      "execution_count": null,
      "outputs": [
        {
          "output_type": "stream",
          "name": "stdout",
          "text": [
            "[6.30061232 0.54980396]\n"
          ]
        }
      ]
    },
    {
      "cell_type": "markdown",
      "source": [
        "Code referenced from orginal documentation: [sklearn.decomposition.PCA](https://scikit-learn.org/stable/modules/generated/sklearn.decomposition.PCA.html)."
      ],
      "metadata": {
        "id": "YyDn55j9KWh4"
      }
    },
    {
      "cell_type": "markdown",
      "source": [
        "#### 1.4.3.3 Total Variance"
      ],
      "metadata": {
        "id": "i-FyRDEY2B9m"
      }
    },
    {
      "cell_type": "markdown",
      "source": [
        "Given the columns of the $p \\times N$ data matrix and assume it is already in mean-deviation form,\n",
        "$$\n",
        "X=\\left[\\mathbf{X}_{1}, \\mathbf{X}_{2}, \\cdots \\mathbf{X}_{N}\\right]\n",
        "$$\n",
        "and let covariance matrix $S$,\n",
        "$$\n",
        "S=\\frac{1}{N-1} X X^{T}\n",
        "$$\n",
        "\n",
        "The entries in $S=\\left[S_{i j}\\right]$, for $j=1, \\ldots, p$, the diagonal entry $s_{j j}$ in $S$ is called the **variance** of $x_{j}$, which is the first $j$ th row of X . The variance of $x_{j}$ measures the spread of the values of $x_{j}$. The total variance of the data is\n",
        "the sum of the variances on the diagonal of S. In general, the sum of the diagonal entries of a square matrix $S$ is called the trace of the matrix, written $\\operatorname{tr}(S)$. Thus\n",
        "$$\n",
        "\\text { Total Variance }=\\operatorname{tr}(S)\n",
        "$$\n",
        "\n",
        "Note that if\n",
        "$$\n",
        "X X^{T}=V \\operatorname{diag}\\left(\\lambda_{1}, \\ldots, \\lambda_{p}\\right) V^{T}, \\text { or } V^{T} X X^{T} V=\\operatorname{diag}\\left(\\lambda_{1}, \\ldots ., \\lambda_{p}\\right) \\text {, }\n",
        "$$\n",
        "then\n",
        "$$\n",
        "\\operatorname{tr}(S)=\\frac{1}{N-1} \\sum_{1}^{p} \\lambda_{j}\n",
        "$$\n",
        "because $\\operatorname{tr}\\left(V S V^{T}\\right)=\\operatorname{tr}(S)$. Thus the fraction of the variances of the first $k$ term truncation is\n",
        "$$\n",
        "\\frac{\\sum_{1}^{k} \\lambda_{j}}{\\sum_{1}^{p} \\lambda_{j}}\n",
        "$$"
      ],
      "metadata": {
        "id": "pUBnBqHX2CB-"
      }
    },
    {
      "cell_type": "markdown",
      "source": [
        "## Code References"
      ],
      "metadata": {
        "id": "C66ZHYliEmJA"
      }
    },
    {
      "cell_type": "markdown",
      "source": [
        "NumPy Developers (2008-2024) “numpy.cov” numpy.cov — NumPy v2.1 Manual, https://numpy.org/doc/stable/reference/generated/numpy.cov.html. Accessed 15 Sept. 2024.\n",
        "\n",
        "NumPy Developers (2008-2024) “numpy.linalg.svd” numpy.linalg.svd - NumPy v2.1\n",
        "Manual, https://numpy.org/doc/stable/reference/generated/numpy.linalg.svd.html. Accessed 15 Sept. 2024.\n",
        "\n",
        "scikit-learn developers (2007-2024) \"PCA\" PCA — scikit-learn 1.5.2 documentation, https://scikit-learn.org/stable/modules/generated/sklearn.decomposition.PCA.html. Accessed 15 Sept. 2024."
      ],
      "metadata": {
        "id": "kTYxTEXHE5uk"
      }
    }
  ]
}